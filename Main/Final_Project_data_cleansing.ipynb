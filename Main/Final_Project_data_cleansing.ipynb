{
 "cells": [
  {
   "cell_type": "code",
   "execution_count": 67,
   "metadata": {},
   "outputs": [],
   "source": [
    "import pandas as pd\n",
    "import numpy as np"
   ]
  },
  {
   "cell_type": "code",
   "execution_count": 68,
   "metadata": {},
   "outputs": [
    {
     "name": "stdout",
     "output_type": "stream",
     "text": [
      "shape of selected dataset is: (651, 8)\n"
     ]
    },
    {
     "data": {
      "text/html": [
       "<div>\n",
       "<style scoped>\n",
       "    .dataframe tbody tr th:only-of-type {\n",
       "        vertical-align: middle;\n",
       "    }\n",
       "\n",
       "    .dataframe tbody tr th {\n",
       "        vertical-align: top;\n",
       "    }\n",
       "\n",
       "    .dataframe thead th {\n",
       "        text-align: right;\n",
       "    }\n",
       "</style>\n",
       "<table border=\"1\" class=\"dataframe\">\n",
       "  <thead>\n",
       "    <tr style=\"text-align: right;\">\n",
       "      <th></th>\n",
       "      <th>Player</th>\n",
       "      <th>Age</th>\n",
       "      <th>Tm</th>\n",
       "      <th>G</th>\n",
       "      <th>MP</th>\n",
       "      <th>PER</th>\n",
       "      <th>WS</th>\n",
       "      <th>BPM</th>\n",
       "    </tr>\n",
       "  </thead>\n",
       "  <tbody>\n",
       "    <tr>\n",
       "      <td>0</td>\n",
       "      <td>Zhou Qi</td>\n",
       "      <td>22</td>\n",
       "      <td>HOU</td>\n",
       "      <td>16</td>\n",
       "      <td>87</td>\n",
       "      <td>0.6</td>\n",
       "      <td>-0.2</td>\n",
       "      <td>-10.1</td>\n",
       "    </tr>\n",
       "    <tr>\n",
       "      <td>1</td>\n",
       "      <td>Zaza Pachulia</td>\n",
       "      <td>33</td>\n",
       "      <td>GSW</td>\n",
       "      <td>66</td>\n",
       "      <td>937</td>\n",
       "      <td>16.8</td>\n",
       "      <td>3.1</td>\n",
       "      <td>0.8</td>\n",
       "    </tr>\n",
       "    <tr>\n",
       "      <td>2</td>\n",
       "      <td>Zach Randolph</td>\n",
       "      <td>36</td>\n",
       "      <td>SAC</td>\n",
       "      <td>59</td>\n",
       "      <td>1508</td>\n",
       "      <td>17.3</td>\n",
       "      <td>1.4</td>\n",
       "      <td>-1.9</td>\n",
       "    </tr>\n",
       "    <tr>\n",
       "      <td>3</td>\n",
       "      <td>Zach LaVine</td>\n",
       "      <td>22</td>\n",
       "      <td>CHI</td>\n",
       "      <td>24</td>\n",
       "      <td>656</td>\n",
       "      <td>14.6</td>\n",
       "      <td>0.4</td>\n",
       "      <td>-2.6</td>\n",
       "    </tr>\n",
       "    <tr>\n",
       "      <td>4</td>\n",
       "      <td>Zach Collins</td>\n",
       "      <td>20</td>\n",
       "      <td>POR</td>\n",
       "      <td>62</td>\n",
       "      <td>979</td>\n",
       "      <td>8.2</td>\n",
       "      <td>0.8</td>\n",
       "      <td>-2.9</td>\n",
       "    </tr>\n",
       "  </tbody>\n",
       "</table>\n",
       "</div>"
      ],
      "text/plain": [
       "          Player  Age   Tm   G    MP   PER   WS   BPM\n",
       "0        Zhou Qi   22  HOU  16    87   0.6 -0.2 -10.1\n",
       "1  Zaza Pachulia   33  GSW  66   937  16.8  3.1   0.8\n",
       "2  Zach Randolph   36  SAC  59  1508  17.3  1.4  -1.9\n",
       "3    Zach LaVine   22  CHI  24   656  14.6  0.4  -2.6\n",
       "4   Zach Collins   20  POR  62   979   8.2  0.8  -2.9"
      ]
     },
     "execution_count": 68,
     "metadata": {},
     "output_type": "execute_result"
    }
   ],
   "source": [
    "# load the [\"Player\",\"Tm\",\"Age\",\"G\",\"MP\",\"PER\",\"WS\",\"BPM\"] clolunms of the salary dataset \n",
    "X = pd.read_csv(\"datasets_28292_36043_2017-18_AdvancedStats_Salary.csv\", encoding= 'unicode_escape',\n",
    "                usecols =[\"Player\",\"Tm\",\"Age\",\"G\",\"MP\",\"PER\",\"WS\",\"BPM\"])\n",
    "print(\"shape of selected dataset is:\",X.shape)\n",
    "X.head()"
   ]
  },
  {
   "cell_type": "code",
   "execution_count": 69,
   "metadata": {},
   "outputs": [
    {
     "name": "stdout",
     "output_type": "stream",
     "text": [
      "shape of current dataset is: (651, 8)\n"
     ]
    }
   ],
   "source": [
    "# delete rows containing any NULL value\n",
    "X.dropna(axis=0, inplace=True)\n",
    "print(\"shape of current dataset is:\",X.shape)"
   ]
  },
  {
   "cell_type": "code",
   "execution_count": 70,
   "metadata": {},
   "outputs": [
    {
     "name": "stdout",
     "output_type": "stream",
     "text": [
      "shape of rows with Tm=TOT (57, 8)\n",
      "after dropping NULL shape is: (474, 8)\n",
      "shape of dataset after removing duplicates and keep TOT rows is: (531, 8)\n",
      "shape of useful information df is: (531, 7)\n",
      "shape of nd array after remove 'Player name' column is: (531, 6)\n"
     ]
    }
   ],
   "source": [
    "## check for duplicates in Player names and keep only the row with value \"TOT\" of \"Tm\" column, then\n",
    "## convert panda df into np array\n",
    "\n",
    "# find rows with Tm = \"TOT\"\n",
    "rows_TOT = X[X['Tm'] == \"TOT\"] \n",
    "print(\"shape of rows with Tm=TOT\",rows_TOT.shape)\n",
    "\n",
    "# drop all duplicate rows\n",
    "X.drop_duplicates(subset=\"Player\", keep=False, inplace=True)\n",
    "print(\"after dropping NULL shape is:\", X.shape)\n",
    "\n",
    "# add the duplicate rows with \"TOT\" Tm value back to dataframe\n",
    "X_noDuplicate = pd.concat([X,rows_TOT])\n",
    "X_noDuplicate.reset_index(drop=True, inplace=True)\n",
    "print(\"shape of dataset after removing duplicates and keep TOT rows is:\",X_noDuplicate.shape)\n",
    "\n",
    "# keep columns [\"Player\",\"Age\",\"G\",\"MP\",\"PER\",\"WS\",\"BPM\"] \n",
    "df = X_noDuplicate[[\"Player\",\"Age\",\"G\",\"MP\",\"PER\",\"WS\",\"BPM\"]] \n",
    "print(\"shape of useful information df is:\", df.shape)\n",
    "\n",
    "# convert panda df to np array and use all columns except \"Player\"(player name)\n",
    "X = df.to_numpy()\n",
    "X_noName = X[:,1:]\n",
    "print(\"shape of nd array after remove 'Player name' column is:\", X_noName.shape)"
   ]
  },
  {
   "cell_type": "code",
   "execution_count": 71,
   "metadata": {},
   "outputs": [
    {
     "name": "stdout",
     "output_type": "stream",
     "text": [
      "m = 6 n = 531\n",
      "mean of the data is : [[26.071563088512242 46.89265536723164 1067.4293785310736\n",
      "  12.897740112994349 2.253672316384179 -2.080037664783428]]\n",
      "dimensions of mean6d is: (1, 6)\n",
      "Covariance matric shape is: (6, 6)\n",
      "Covariance matrix is: [[17.357133212521752 14.288828483104156 421.81449738833834\n",
      "  1.2716714635966315 1.598793305617739 1.8525310023807007]\n",
      " [14.288828483104156 685.2167572753441 19220.599008634465\n",
      "  58.56070035177483 45.17728173968663 68.71705255303277]\n",
      " [421.81449738833834 19220.599008634465 683332.9586824437\n",
      "  2251.6445570834685 1734.9880428525726 2225.1772614859833]\n",
      " [1.2716714635966315 58.56070035177483 2251.6445570834685\n",
      "  80.35078733610491 10.156649824112568 45.59155463170235]\n",
      " [1.598793305617739 45.17728173968663 1734.9880428525726\n",
      "  10.156649824112568 6.962453469779336 8.036134100842132]\n",
      " [1.8525310023807007 68.71705255303277 2225.1772614859833\n",
      "  45.59155463170235 8.036134100842132 36.94246867782395]]\n"
     ]
    }
   ],
   "source": [
    "## Covariance matrix calculation\n",
    "\n",
    "X_noName = X_noName.T\n",
    "m,n = X_noName.shape\n",
    "print(\"m =\",m, \"n =\",n)\n",
    "\n",
    "# Find the mean of the data\n",
    "mean6d = np.mean(X_noName,1)\n",
    "mean6d = mean6d.reshape(1,6)\n",
    "print(\"mean of the data is :\", mean6d)\n",
    "print(\"dimensions of mean6d is:\", mean6d.shape)\n",
    "# Create Z, the zero-meaned data matrix\n",
    "Z = X_noName - np.tile(mean6d,(n,1)).T\n",
    "\n",
    "# calculate the covariance matrix of Z\n",
    "C = np.matmul(Z,Z.T)/(n-1)\n",
    "print(\"Covariance matric shape is:\", C.shape)\n",
    "print(\"Covariance matrix is:\", C)"
   ]
  },
  {
   "cell_type": "code",
   "execution_count": null,
   "metadata": {},
   "outputs": [],
   "source": []
  }
 ],
 "metadata": {
  "kernelspec": {
   "display_name": "Python 3",
   "language": "python",
   "name": "python3"
  },
  "language_info": {
   "codemirror_mode": {
    "name": "ipython",
    "version": 3
   },
   "file_extension": ".py",
   "mimetype": "text/x-python",
   "name": "python",
   "nbconvert_exporter": "python",
   "pygments_lexer": "ipython3",
   "version": "3.7.4"
  }
 },
 "nbformat": 4,
 "nbformat_minor": 2
}
